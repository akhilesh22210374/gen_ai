{
  "nbformat": 4,
  "nbformat_minor": 0,
  "metadata": {
    "colab": {
      "provenance": [],
      "authorship_tag": "ABX9TyMd0jAmo05Tc9BN4L8xq3Yb",
      "include_colab_link": true
    },
    "kernelspec": {
      "name": "python3",
      "display_name": "Python 3"
    },
    "language_info": {
      "name": "python"
    }
  },
  "cells": [
    {
      "cell_type": "markdown",
      "metadata": {
        "id": "view-in-github",
        "colab_type": "text"
      },
      "source": [
        "<a href=\"https://colab.research.google.com/github/akhilesh22210374/gen_ai/blob/main/GenAI_Lab_4.ipynb\" target=\"_parent\"><img src=\"https://colab.research.google.com/assets/colab-badge.svg\" alt=\"Open In Colab\"/></a>"
      ]
    },
    {
      "cell_type": "code",
      "execution_count": null,
      "metadata": {
        "id": "gjlo_hRkohLt"
      },
      "outputs": [],
      "source": [
        "import google.generativeai as genai\n"
      ]
    },
    {
      "cell_type": "code",
      "source": [
        "from google.colab import userdata\n",
        "key = userdata.get(\"GEMINI_KEY\")"
      ],
      "metadata": {
        "id": "YOAoWqLsoub_"
      },
      "execution_count": null,
      "outputs": []
    },
    {
      "cell_type": "code",
      "source": [
        "genai.configure(api_key=key)\n",
        "model = genai.GenerativeModel(\"gemini-1.5-flash\")"
      ],
      "metadata": {
        "id": "w8RohPRXpLyp"
      },
      "execution_count": null,
      "outputs": []
    },
    {
      "cell_type": "code",
      "source": [
        "\n",
        "print(\"Ask questions(Enter 'Exit') to end conversation:\\n\")\n",
        "while True:\n",
        "  question = input(\"You: \")\n",
        "  if question.lower() == \"exit\": break\n",
        "  responce = model.generate_content(question)\n",
        "  print(\"\\nBot: \" + responce.text)\n"
      ],
      "metadata": {
        "id": "g1XCrsydpPP5",
        "outputId": "13f0efcb-ba1c-450b-86d6-8937a91bba58",
        "colab": {
          "base_uri": "https://localhost:8080/",
          "height": 138
        }
      },
      "execution_count": null,
      "outputs": [
        {
          "name": "stdout",
          "output_type": "stream",
          "text": [
            "Ask questions(Enter 'Exit') to end conversation:\n",
            "\n",
            "You: hello\n",
            "\n",
            "Bot: Hello there! How can I help you today?\n",
            "\n",
            "You: Exit\n"
          ]
        }
      ]
    }
  ]
}