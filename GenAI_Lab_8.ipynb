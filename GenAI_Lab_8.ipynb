{
  "nbformat": 4,
  "nbformat_minor": 0,
  "metadata": {
    "colab": {
      "provenance": [],
      "authorship_tag": "ABX9TyM/lRVi9y3Kom3JA3P6JTQO",
      "include_colab_link": true
    },
    "kernelspec": {
      "name": "python3",
      "display_name": "Python 3"
    },
    "language_info": {
      "name": "python"
    }
  },
  "cells": [
    {
      "cell_type": "markdown",
      "metadata": {
        "id": "view-in-github",
        "colab_type": "text"
      },
      "source": [
        "<a href=\"https://colab.research.google.com/github/akhilesh22210374/gen_ai/blob/main/GenAI_Lab_8.ipynb\" target=\"_parent\"><img src=\"https://colab.research.google.com/assets/colab-badge.svg\" alt=\"Open In Colab\"/></a>"
      ]
    },
    {
      "cell_type": "code",
      "execution_count": null,
      "metadata": {
        "id": "nzM7njcoq0P_"
      },
      "outputs": [],
      "source": [
        "\n",
        "!pip install torch torchvision torchaudio\n",
        "!pip install numpy librosa scipy matplotlib soundfile"
      ]
    },
    {
      "cell_type": "code",
      "source": [
        "import torch\n",
        "import torchaudio\n",
        "import numpy as np\n",
        "import soundfile as sf"
      ],
      "metadata": {
        "id": "7J_NnFbJrCRY"
      },
      "execution_count": null,
      "outputs": []
    },
    {
      "cell_type": "code",
      "source": [
        "tacotron2 = torch.hub.load(\"nvidia/DeepLearningExamples:torchhub\", \"nvidia_tacotron2\")\n",
        "tacotron2.eval()"
      ],
      "metadata": {
        "id": "-OtaKxLxrEX3"
      },
      "execution_count": null,
      "outputs": []
    },
    {
      "cell_type": "code",
      "source": [
        "waveglow = torch.hub.load(\"nvidia/DeepLearningExamples:torchhub\", \"nvidia_waveglow\")\n",
        "waveglow.eval()"
      ],
      "metadata": {
        "id": "VJ9j83zorH7S"
      },
      "execution_count": null,
      "outputs": []
    },
    {
      "cell_type": "code",
      "source": [
        "device = \"cuda\" if torch.cuda.is_available() else \"cpu\"\n",
        "tacotron2.to(device)\n",
        "waveglow.to(device)\n",
        "\n",
        "text = \"Hello, this is an AI-generated voice.\"\n",
        "\n",
        "sequence = tacotron2.parse_input(text).to(device)\n",
        "mel_output, _, _ = tacotron2.infer(sequence)\n",
        "\n",
        "with torch.no_grad():\n",
        "    audio = waveglow.infer(mel_output)\n",
        "\n",
        "audio_numpy = audio.squeeze().cpu().numpy()\n",
        "sf.write(\"output.wav\", audio_numpy, samplerate=22050)\n",
        "\n",
        "print(\"Audio generated: output.wav\")"
      ],
      "metadata": {
        "id": "sqiBdzZxrLVX"
      },
      "execution_count": null,
      "outputs": []
    },
    {
      "cell_type": "code",
      "source": [
        "!pip install speechbrain\n"
      ],
      "metadata": {
        "id": "U_VrhEkerOCe"
      },
      "execution_count": null,
      "outputs": []
    },
    {
      "cell_type": "code",
      "source": [
        "\n",
        "import os\n",
        "import torchaudio\n",
        "from speechbrain.inference.TTS import Tacotron2\n",
        "from speechbrain.inference.vocoders import HIFIGAN\n",
        "from IPython.display import Audio, display\n",
        "\n",
        "tacotron2 = Tacotron2.from_hparams(source=\"speechbrain/tts-tacotron2-ljspeech\", savedir=\"tmpdir_tts\")\n",
        "hifi_gan = HIFIGAN.from_hparams(source=\"speechbrain/tts-hifigan-ljspeech\", savedir=\"tmpdir_vocoder\")\n",
        "\n",
        "while True:\n",
        "    user_text = input(\"Text to convert to Speech: \")\n",
        "    if user_text.lower() == \"exit\":\n",
        "        break\n",
        "    mel_output, mel_length, alignment = tacotron2.encode_text(user_text)\n",
        "    waveforms = hifi_gan.decode_batch(mel_output)\n",
        "    output_filename = \"output.wav\"\n",
        "    torchaudio.save(output_filename, waveforms.squeeze(1), 22050)\n",
        "    print(f\"Audio saved to {output_filename}\\n\")\n",
        "    display(Audio(output_filename, rate=22050))"
      ],
      "metadata": {
        "id": "vPHCZBUGrQxB"
      },
      "execution_count": null,
      "outputs": []
    }
  ]
}