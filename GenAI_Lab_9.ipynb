{
  "nbformat": 4,
  "nbformat_minor": 0,
  "metadata": {
    "colab": {
      "provenance": [],
      "authorship_tag": "ABX9TyP7jsRdNeHA0lFhcCm6r+IF",
      "include_colab_link": true
    },
    "kernelspec": {
      "name": "python3",
      "display_name": "Python 3"
    },
    "language_info": {
      "name": "python"
    }
  },
  "cells": [
    {
      "cell_type": "markdown",
      "metadata": {
        "id": "view-in-github",
        "colab_type": "text"
      },
      "source": [
        "<a href=\"https://colab.research.google.com/github/akhilesh22210374/gen_ai/blob/main/GenAI_Lab_9.ipynb\" target=\"_parent\"><img src=\"https://colab.research.google.com/assets/colab-badge.svg\" alt=\"Open In Colab\"/></a>"
      ]
    },
    {
      "cell_type": "code",
      "execution_count": null,
      "metadata": {
        "id": "H31fVD50rY9S"
      },
      "outputs": [],
      "source": [
        "!pip install diffusers transformers accelerate torch torchvision torchaudio numpy opencv-python tqdm imageio[ffmpeg]\n",
        "!pip install safetensors"
      ]
    },
    {
      "cell_type": "code",
      "source": [
        "from diffusers import StableDiffusionPipeline\n",
        "import torch"
      ],
      "metadata": {
        "id": "UO80x_TxruLk"
      },
      "execution_count": null,
      "outputs": []
    },
    {
      "cell_type": "code",
      "source": [
        "# Load pre-trained model\n",
        "model_id = \"runwayml/stable-diffusion-v1-5\"\n",
        "pipe = StableDiffusionPipeline.from_pretrained(model_id, torch_dtype=torch.float16)\n",
        "pipe = pipe.to(\"cuda\")  # Use GPU for faster processing"
      ],
      "metadata": {
        "id": "busvAFbDrv4u"
      },
      "execution_count": null,
      "outputs": []
    },
    {
      "cell_type": "code",
      "source": [
        "import os\n",
        "from PIL import Image"
      ],
      "metadata": {
        "id": "LhFS4rbKryX1"
      },
      "execution_count": null,
      "outputs": []
    },
    {
      "cell_type": "code",
      "source": [
        "# Create output folder\n",
        "os.makedirs(\"frames\", exist_ok=True)"
      ],
      "metadata": {
        "id": "lnVc1ZGgr0TH"
      },
      "execution_count": null,
      "outputs": []
    },
    {
      "cell_type": "code",
      "source": [
        "# Generate multiple frames\n",
        "prompt = \"A futuristic city with flying cars, cyberpunk style\"\n",
        "num_frames = 10  # Number of frames"
      ],
      "metadata": {
        "id": "AiwRY5_7r15A"
      },
      "execution_count": null,
      "outputs": []
    },
    {
      "cell_type": "code",
      "source": [
        "for i in range(num_frames):\n",
        "    image = pipe(prompt).images[0]\n",
        "    image.save(f\"frames/frame_{i:03d}.png\")  # Save frames"
      ],
      "metadata": {
        "id": "cDpdMYEQr4bR"
      },
      "execution_count": null,
      "outputs": []
    },
    {
      "cell_type": "code",
      "source": [
        "import imageio"
      ],
      "metadata": {
        "id": "tsO2xB4hr6yd"
      },
      "execution_count": null,
      "outputs": []
    },
    {
      "cell_type": "code",
      "source": [
        "frames = []\n",
        "for i in range(num_frames):\n",
        "    frame = Image.open(f\"frames/frame_{i:03d}.png\")\n",
        "    frames.append(frame)"
      ],
      "metadata": {
        "id": "uec_CUBqr8TA"
      },
      "execution_count": null,
      "outputs": []
    },
    {
      "cell_type": "code",
      "source": [
        "# Save as a video\n",
        "output_video = \"animation.mp4\"\n",
        "imageio.mimsave(output_video, frames, fps=10)  # 10 FPS\n",
        "\n",
        "print(f\"Video saved as {output_video}\")"
      ],
      "metadata": {
        "id": "JsqCJOxzr9wo"
      },
      "execution_count": null,
      "outputs": []
    }
  ]
}