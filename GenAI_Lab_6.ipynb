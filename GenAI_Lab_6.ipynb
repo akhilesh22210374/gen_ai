{
  "nbformat": 4,
  "nbformat_minor": 0,
  "metadata": {
    "colab": {
      "provenance": [],
      "authorship_tag": "ABX9TyOSoBnFuWdBl6yp3zdH12rv",
      "include_colab_link": true
    },
    "kernelspec": {
      "name": "python3",
      "display_name": "Python 3"
    },
    "language_info": {
      "name": "python"
    }
  },
  "cells": [
    {
      "cell_type": "markdown",
      "metadata": {
        "id": "view-in-github",
        "colab_type": "text"
      },
      "source": [
        "<a href=\"https://colab.research.google.com/github/akhilesh22210374/gen_ai/blob/main/GenAI_Lab_6.ipynb\" target=\"_parent\"><img src=\"https://colab.research.google.com/assets/colab-badge.svg\" alt=\"Open In Colab\"/></a>"
      ]
    },
    {
      "cell_type": "code",
      "execution_count": 1,
      "metadata": {
        "id": "zTNG_G_fwuXm"
      },
      "outputs": [],
      "source": [
        "# Install required dependencies (Uncomment if not installed)\n",
        "# !pip install transformers torch torchvision diffusers pillow huggingface_hub matplotlib\n",
        "\n",
        "import torch\n",
        "import matplotlib.pyplot as plt\n",
        "from transformers import pipeline\n",
        "from diffusers import StableDiffusionPipeline  # Correctly import StableDiffusionPipeline\n",
        "from huggingface_hub import login\n"
      ]
    },
    {
      "cell_type": "code",
      "source": [
        "!huggingface-cli login"
      ],
      "metadata": {
        "id": "_piL_vyPw2_0",
        "colab": {
          "base_uri": "https://localhost:8080/"
        },
        "outputId": "f4acb0ea-f0f1-4dcd-a239-a5c587af6fbc"
      },
      "execution_count": null,
      "outputs": [
        {
          "output_type": "stream",
          "name": "stdout",
          "text": [
            "\n",
            "    _|    _|  _|    _|    _|_|_|    _|_|_|  _|_|_|  _|      _|    _|_|_|      _|_|_|_|    _|_|      _|_|_|  _|_|_|_|\n",
            "    _|    _|  _|    _|  _|        _|          _|    _|_|    _|  _|            _|        _|    _|  _|        _|\n",
            "    _|_|_|_|  _|    _|  _|  _|_|  _|  _|_|    _|    _|  _|  _|  _|  _|_|      _|_|_|    _|_|_|_|  _|        _|_|_|\n",
            "    _|    _|  _|    _|  _|    _|  _|    _|    _|    _|    _|_|  _|    _|      _|        _|    _|  _|        _|\n",
            "    _|    _|    _|_|      _|_|_|    _|_|_|  _|_|_|  _|      _|    _|_|_|      _|        _|    _|    _|_|_|  _|_|_|_|\n",
            "\n",
            "    To log in, `huggingface_hub` requires a token generated from https://huggingface.co/settings/tokens .\n",
            "Enter your token (input will not be visible): "
          ]
        }
      ]
    },
    {
      "cell_type": "code",
      "source": [
        "# Step 2: Load the Pre-trained Stable Diffusion Model\n",
        "model_id = \"runwayml/stable-diffusion-v1-5\"  # Use the correct model\n",
        "pipe = StableDiffusionPipeline.from_pretrained(model_id, torch_dtype=torch.float16)\n",
        "pipe.to(\"cuda\")  # Move the model to GPU (if available) for better performance\n"
      ],
      "metadata": {
        "id": "TI2goKoow48Y"
      },
      "execution_count": null,
      "outputs": []
    },
    {
      "cell_type": "code",
      "source": [
        "# Step 3: Define the Image Generation Function\n",
        "def generate_image(prompt):\n",
        "    \"\"\"Generate an image using Stable Diffusion given a text prompt.\"\"\"\n",
        "    image = pipe(prompt).images[0]  # Generate image\n",
        "    return image\n"
      ],
      "metadata": {
        "id": "Y2Fn_9iXw7di"
      },
      "execution_count": null,
      "outputs": []
    },
    {
      "cell_type": "code",
      "source": [
        "# Step 4: Define the Image Generation Function\n",
        "def generate_image(prompt):\n",
        "    \"\"\"Generate an image using Stable Diffusion given a text prompt.\"\"\"\n",
        "    image = pipe(prompt).images[0]  # Generate image\n",
        "    return image"
      ],
      "metadata": {
        "id": "nHUWLdmjw9G2"
      },
      "execution_count": null,
      "outputs": []
    },
    {
      "cell_type": "code",
      "source": [
        "# Step 5: Provide a Text Prompt and Generate Image\n",
        "prompt = \"Orange color cat under tree\"\n",
        "image = generate_image(prompt)\n",
        "\n",
        "# Step 6: Display the Generated Image\n",
        "plt.imshow(image)\n",
        "plt.axis(\"off\")  # Hide axes for a cleaner look\n",
        "plt.show()\n",
        "\n",
        "# Step 7: Save the Generated Image\n",
        "image.save(\"generated_image.png\")  # Save the image as a file\n",
        "print(\"Image saved as generated_image.png\")"
      ],
      "metadata": {
        "id": "t0tHaeVtw_BV"
      },
      "execution_count": null,
      "outputs": []
    }
  ]
}